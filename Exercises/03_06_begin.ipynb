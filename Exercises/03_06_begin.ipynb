{
 "cells": [
  {
   "cell_type": "code",
   "execution_count": null,
   "id": "ebf8d8da-d707-4531-9924-d67af1ff375e",
   "metadata": {},
   "outputs": [],
   "source": [
    "\n",
    "print(\"Hi!\")\n",
    "\n",
    "name = input(\"What's your name? \")\n",
    "print(\"It's nice to meet you,\", name)\n",
    "\n",
    "answer = input(\"Are you enjoying the course? \")\n",
    "\n",
    "if answer == \"Yes\":\n",
    "     print(\"That's good to hear!\")\n",
    "else:\n",
    "    print(\"Oh no! That makes me sad!\")"
   ]
  }
 ],
 "metadata": {
  "kernelspec": {
   "display_name": "Python 3 (ipykernel)",
   "language": "python",
   "name": "python3"
  },
  "language_info": {
   "codemirror_mode": {
    "name": "ipython",
    "version": 3
   },
   "file_extension": ".py",
   "mimetype": "text/x-python",
   "name": "python",
   "nbconvert_exporter": "python",
   "pygments_lexer": "ipython3",
   "version": "3.10.13"
  }
 },
 "nbformat": 4,
 "nbformat_minor": 5
}
