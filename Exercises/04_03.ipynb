{
 "cells": [
  {
   "cell_type": "code",
   "execution_count": 1,
   "id": "1d23fda1-59f5-41d1-9752-7c4c17262c0b",
   "metadata": {},
   "outputs": [
    {
     "name": "stdout",
     "output_type": "stream",
     "text": [
      "Cacti don't need a lot of water\n",
      "Thanks!\n"
     ]
    }
   ],
   "source": [
    "plant = \"Cacti\"\n",
    "\n",
    "if plant == \"Cacti\":\n",
    "    print(plant, \"don't need a lot of water\")\n",
    "else:\n",
    "    print(plant, \"love water\")\n",
    "\n",
    "print(\"Thanks!\")"
   ]
  },
  {
   "cell_type": "code",
   "execution_count": null,
   "id": "957d5c7c-26b7-45a9-82ab-93f4280fa0c1",
   "metadata": {},
   "outputs": [],
   "source": []
  }
 ],
 "metadata": {
  "kernelspec": {
   "display_name": "Python 3 (ipykernel)",
   "language": "python",
   "name": "python3"
  },
  "language_info": {
   "codemirror_mode": {
    "name": "ipython",
    "version": 3
   },
   "file_extension": ".py",
   "mimetype": "text/x-python",
   "name": "python",
   "nbconvert_exporter": "python",
   "pygments_lexer": "ipython3",
   "version": "3.10.13"
  }
 },
 "nbformat": 4,
 "nbformat_minor": 5
}
