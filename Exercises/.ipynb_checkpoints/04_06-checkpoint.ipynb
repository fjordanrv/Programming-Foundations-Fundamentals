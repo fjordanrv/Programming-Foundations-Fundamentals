{
 "cells": [
  {
   "cell_type": "code",
   "execution_count": 1,
   "id": "b33c8485-04a9-4bdc-b3ef-dd6a9d7d1774",
   "metadata": {},
   "outputs": [
    {
     "name": "stdin",
     "output_type": "stream",
     "text": [
      "What's my favorite food?  blue\n"
     ]
    },
    {
     "name": "stdout",
     "output_type": "stream",
     "text": [
      "Yuck! That’s not it!\n",
      "Thanks for playing!\n"
     ]
    }
   ],
   "source": [
    "guess = input(\"What's my favorite food? \")\n",
    "\n",
    "if guess == \"cookies\":\n",
    "    print(\"Yep! So amazing!\")\n",
    "else:\n",
    "    print(\"Yuck! That’s not it!\")\n",
    "\n",
    "print(\"Thanks for playing!\")"
   ]
  },
  {
   "cell_type": "code",
   "execution_count": null,
   "id": "7fc2feb9-7277-4ed4-9641-64aed95626b4",
   "metadata": {},
   "outputs": [],
   "source": []
  }
 ],
 "metadata": {
  "kernelspec": {
   "display_name": "Python 3 (ipykernel)",
   "language": "python",
   "name": "python3"
  },
  "language_info": {
   "codemirror_mode": {
    "name": "ipython",
    "version": 3
   },
   "file_extension": ".py",
   "mimetype": "text/x-python",
   "name": "python",
   "nbconvert_exporter": "python",
   "pygments_lexer": "ipython3",
   "version": "3.10.13"
  }
 },
 "nbformat": 4,
 "nbformat_minor": 5
}
