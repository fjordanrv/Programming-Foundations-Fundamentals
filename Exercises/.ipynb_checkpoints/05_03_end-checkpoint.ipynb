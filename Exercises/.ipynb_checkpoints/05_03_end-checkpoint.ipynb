{
 "cells": [
  {
   "cell_type": "code",
   "execution_count": 1,
   "id": "2e13b631-cc51-46e8-95b4-b62dbd567ea4",
   "metadata": {},
   "outputs": [
    {
     "name": "stdout",
     "output_type": "stream",
     "text": [
      "Wash with white foam\n",
      "Rinse once\n",
      "Air dry\n"
     ]
    }
   ],
   "source": [
    "def wash_car(amount_paid):\n",
    "    if (amount_paid == 12):\n",
    "        print(\"Wash with tri-color foam\")\n",
    "        print(\"Rinse twice\")\n",
    "        print(\"Dry with large blow dryer\")\n",
    "\n",
    "    if (amount_paid == 6):\n",
    "        print(\"Wash with white foam\")\n",
    "        print(\"Rinse once\")\n",
    "        print(\"Air dry\") \n",
    "\n",
    "wash_car(6) "
   ]
  },
  {
   "cell_type": "code",
   "execution_count": null,
   "id": "c8da90a5-6c4f-463c-9e43-146d51f74f2c",
   "metadata": {},
   "outputs": [],
   "source": []
  }
 ],
 "metadata": {
  "kernelspec": {
   "display_name": "Python 3 (ipykernel)",
   "language": "python",
   "name": "python3"
  },
  "language_info": {
   "codemirror_mode": {
    "name": "ipython",
    "version": 3
   },
   "file_extension": ".py",
   "mimetype": "text/x-python",
   "name": "python",
   "nbconvert_exporter": "python",
   "pygments_lexer": "ipython3",
   "version": "3.10.13"
  }
 },
 "nbformat": 4,
 "nbformat_minor": 5
}
