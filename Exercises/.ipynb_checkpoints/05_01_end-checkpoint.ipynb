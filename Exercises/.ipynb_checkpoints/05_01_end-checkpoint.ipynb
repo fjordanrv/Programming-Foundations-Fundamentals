{
 "cells": [
  {
   "cell_type": "code",
   "execution_count": 1,
   "id": "8e38f50a-3705-42b6-8d12-44e678d3ff0d",
   "metadata": {},
   "outputs": [
    {
     "name": "stdout",
     "output_type": "stream",
     "text": [
      "~~~ The Shimmy ~~~\n",
      "Take one step to the right and stomp.\n",
      "Take one step to the left and stomp.\n",
      "Shake those hips!\n",
      "Take one step to the right and stomp.\n",
      "Take one step to the left and stomp.\n",
      "Shake those hips!\n",
      "Take one step to the right and stomp.\n",
      "Take one step to the left and stomp.\n",
      "Shake those hips!\n"
     ]
    }
   ],
   "source": [
    "print(\"~~~ The Shimmy ~~~\")\n",
    "\n",
    "def shimmy():\n",
    "    print(\"Take one step to the right and stomp.\")\n",
    "    print(\"Take one step to the left and stomp.\")\n",
    "    print(\"Shake those hips!\")\n",
    "\n",
    "shimmy()\n",
    "shimmy()\n",
    "shimmy()"
   ]
  },
  {
   "cell_type": "code",
   "execution_count": null,
   "id": "46c1e036-80b0-4fe8-9695-693ccc6aad7c",
   "metadata": {},
   "outputs": [],
   "source": []
  }
 ],
 "metadata": {
  "kernelspec": {
   "display_name": "Python 3 (ipykernel)",
   "language": "python",
   "name": "python3"
  },
  "language_info": {
   "codemirror_mode": {
    "name": "ipython",
    "version": 3
   },
   "file_extension": ".py",
   "mimetype": "text/x-python",
   "name": "python",
   "nbconvert_exporter": "python",
   "pygments_lexer": "ipython3",
   "version": "3.10.13"
  }
 },
 "nbformat": 4,
 "nbformat_minor": 5
}
