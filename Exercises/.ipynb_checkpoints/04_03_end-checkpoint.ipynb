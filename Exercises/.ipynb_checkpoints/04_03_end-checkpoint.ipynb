{
 "cells": [
  {
   "cell_type": "code",
   "execution_count": null,
   "id": "4556c0a7-a216-4850-9104-9cb66135687e",
   "metadata": {},
   "outputs": [],
   "source": [
    "plant = \"Irises\"\n",
    "\n",
    "if plant == \"Cacti\":\n",
    "    print(plant, \"don't need a lot of water\")\n",
    "else:\n",
    "    print(plant, \"love water\")\n",
    "\n",
    "print(\"Thanks!\")"
   ]
  }
 ],
 "metadata": {
  "kernelspec": {
   "display_name": "Python 3 (ipykernel)",
   "language": "python",
   "name": "python3"
  },
  "language_info": {
   "codemirror_mode": {
    "name": "ipython",
    "version": 3
   },
   "file_extension": ".py",
   "mimetype": "text/x-python",
   "name": "python",
   "nbconvert_exporter": "python",
   "pygments_lexer": "ipython3",
   "version": "3.10.13"
  }
 },
 "nbformat": 4,
 "nbformat_minor": 5
}
