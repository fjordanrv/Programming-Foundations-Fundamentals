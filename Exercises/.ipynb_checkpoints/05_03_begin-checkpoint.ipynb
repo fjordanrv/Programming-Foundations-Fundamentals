{
 "cells": [
  {
   "cell_type": "code",
   "execution_count": 1,
   "id": "5d21d8c4-83b0-4a49-b158-cad899851645",
   "metadata": {},
   "outputs": [],
   "source": [
    "def wash_car():\n",
    "    print(\"Wash with tri-color foam\")\n",
    "    print(\"Rinse twice\")\n",
    "    print(\"Dry with large blow dryer\")\n",
    "\n",
    "    print(\"Wash with white foam\")\n",
    "    print(\"Rinse once\")\n",
    "    print(\"Air dry\") "
   ]
  },
  {
   "cell_type": "code",
   "execution_count": 2,
   "id": "e0500c9d-445b-4593-b6fa-b06e6a1ad593",
   "metadata": {},
   "outputs": [
    {
     "name": "stdout",
     "output_type": "stream",
     "text": [
      "Wash with tri-color foam\n",
      "Rinse twice\n",
      "Dry with large blow dryer\n",
      "Wash with white foam\n",
      "Rinse once\n",
      "Air dry\n"
     ]
    }
   ],
   "source": [
    "wash_car()"
   ]
  },
  {
   "cell_type": "code",
   "execution_count": null,
   "id": "f63436ab-8223-466c-8ad6-f43cfdeef68a",
   "metadata": {},
   "outputs": [],
   "source": []
  }
 ],
 "metadata": {
  "kernelspec": {
   "display_name": "Python 3 (ipykernel)",
   "language": "python",
   "name": "python3"
  },
  "language_info": {
   "codemirror_mode": {
    "name": "ipython",
    "version": 3
   },
   "file_extension": ".py",
   "mimetype": "text/x-python",
   "name": "python",
   "nbconvert_exporter": "python",
   "pygments_lexer": "ipython3",
   "version": "3.10.13"
  }
 },
 "nbformat": 4,
 "nbformat_minor": 5
}
