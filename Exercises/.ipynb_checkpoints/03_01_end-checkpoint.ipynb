{
 "cells": [
  {
   "cell_type": "code",
   "execution_count": 1,
   "id": "eb0ac915-3a78-4182-884d-ead7169534b5",
   "metadata": {},
   "outputs": [
    {
     "name": "stdout",
     "output_type": "stream",
     "text": [
      "36\n",
      "<class 'int'>\n",
      "john.doe@me.com\n",
      "<class 'str'>\n"
     ]
    }
   ],
   "source": [
    "age = 36\n",
    "print(age)\n",
    "print(type(age))\n",
    "\n",
    "email_address = \"john.doe@me.com\"\n",
    "print(email_address)\n",
    "print(type(email_address))"
   ]
  },
  {
   "cell_type": "code",
   "execution_count": null,
   "id": "a8bf1524-d10c-41e3-bf68-b019afe16d32",
   "metadata": {},
   "outputs": [],
   "source": []
  }
 ],
 "metadata": {
  "kernelspec": {
   "display_name": "Python 3 (ipykernel)",
   "language": "python",
   "name": "python3"
  },
  "language_info": {
   "codemirror_mode": {
    "name": "ipython",
    "version": 3
   },
   "file_extension": ".py",
   "mimetype": "text/x-python",
   "name": "python",
   "nbconvert_exporter": "python",
   "pygments_lexer": "ipython3",
   "version": "3.10.13"
  }
 },
 "nbformat": 4,
 "nbformat_minor": 5
}
