{
 "cells": [
  {
   "cell_type": "code",
   "execution_count": 1,
   "id": "68d1d3f2-1fc4-4682-94f4-5e8a68d37327",
   "metadata": {},
   "outputs": [
    {
     "name": "stdout",
     "output_type": "stream",
     "text": [
      "One of my favorite cities is Santa Barbara, California\n",
      "One of my favorite cities is Asheville, North Carolina\n",
      "One of my favorite cities is Amsterdam, The Netherlands\n"
     ]
    }
   ],
   "source": [
    "# Prints out the name of a favorite city\n",
    "def favorite_city(name):\n",
    "    print(\"One of my favorite cities is\", name)\n",
    "\n",
    "favorite_city(\"Santa Barbara, California\")\n",
    "favorite_city(\"Asheville, North Carolina\")\n",
    "favorite_city(\"Amsterdam, The Netherlands\")"
   ]
  },
  {
   "cell_type": "code",
   "execution_count": null,
   "id": "971f0b19-d7c1-4822-a8b7-03dff2233038",
   "metadata": {},
   "outputs": [],
   "source": []
  }
 ],
 "metadata": {
  "kernelspec": {
   "display_name": "Python 3 (ipykernel)",
   "language": "python",
   "name": "python3"
  },
  "language_info": {
   "codemirror_mode": {
    "name": "ipython",
    "version": 3
   },
   "file_extension": ".py",
   "mimetype": "text/x-python",
   "name": "python",
   "nbconvert_exporter": "python",
   "pygments_lexer": "ipython3",
   "version": "3.10.13"
  }
 },
 "nbformat": 4,
 "nbformat_minor": 5
}
