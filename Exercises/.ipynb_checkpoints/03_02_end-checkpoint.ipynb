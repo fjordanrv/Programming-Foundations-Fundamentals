{
 "cells": [
  {
   "cell_type": "code",
   "execution_count": 1,
   "id": "ab9fa598-fa8d-4d5e-892c-83072decf15e",
   "metadata": {},
   "outputs": [
    {
     "name": "stdout",
     "output_type": "stream",
     "text": [
      "Sugar\n",
      "<class 'str'>\n",
      "1\n",
      "<class 'int'>\n",
      "3\n",
      "1\n",
      "Jeff\n",
      "Jeff\n"
     ]
    }
   ],
   "source": [
    "cookies = 'Sugar'\n",
    "print(cookies)\n",
    "print(type(cookies))\n",
    "\n",
    "cookies = 1\n",
    "print(cookies)\n",
    "print(type(cookies))\n",
    "\n",
    "Cookies = 3\n",
    "print(Cookies)\n",
    "print(cookies)\n",
    "\n",
    "first_name = \"Jeff\"\n",
    "print(first_name)\n",
    "\n",
    "first_Name = \"Sara\"\n",
    "print(first_name)"
   ]
  },
  {
   "cell_type": "code",
   "execution_count": null,
   "id": "50f70e91-e285-4071-b55c-42859aa74a82",
   "metadata": {},
   "outputs": [],
   "source": []
  }
 ],
 "metadata": {
  "kernelspec": {
   "display_name": "Python 3 (ipykernel)",
   "language": "python",
   "name": "python3"
  },
  "language_info": {
   "codemirror_mode": {
    "name": "ipython",
    "version": 3
   },
   "file_extension": ".py",
   "mimetype": "text/x-python",
   "name": "python",
   "nbconvert_exporter": "python",
   "pygments_lexer": "ipython3",
   "version": "3.10.13"
  }
 },
 "nbformat": 4,
 "nbformat_minor": 5
}
