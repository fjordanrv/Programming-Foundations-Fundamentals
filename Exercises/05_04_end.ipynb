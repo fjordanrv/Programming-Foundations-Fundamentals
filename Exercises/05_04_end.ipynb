{
 "cells": [
  {
   "cell_type": "code",
   "execution_count": 1,
   "id": "8c98b797-8e6b-4fe6-b09b-38468162fce7",
   "metadata": {},
   "outputs": [
    {
     "name": "stdout",
     "output_type": "stream",
     "text": [
      "We need to make a deposit\n"
     ]
    }
   ],
   "source": [
    "def withdraw_money(current_balance, amount):\n",
    "    if (current_balance >= amount):\n",
    "        current_balance = current_balance - amount\n",
    "        return current_balance\n",
    "\n",
    "balance = withdraw_money(100, 80)\n",
    "\n",
    "if (balance <= 50):\n",
    "    print(\"We need to make a deposit\")\n",
    "else:\n",
    "    print(\"Nothing to see here!\")"
   ]
  },
  {
   "cell_type": "code",
   "execution_count": null,
   "id": "b1c0da3d-72ad-415c-ad1a-770f8afad930",
   "metadata": {},
   "outputs": [],
   "source": []
  }
 ],
 "metadata": {
  "kernelspec": {
   "display_name": "Python 3 (ipykernel)",
   "language": "python",
   "name": "python3"
  },
  "language_info": {
   "codemirror_mode": {
    "name": "ipython",
    "version": 3
   },
   "file_extension": ".py",
   "mimetype": "text/x-python",
   "name": "python",
   "nbconvert_exporter": "python",
   "pygments_lexer": "ipython3",
   "version": "3.10.13"
  }
 },
 "nbformat": 4,
 "nbformat_minor": 5
}
