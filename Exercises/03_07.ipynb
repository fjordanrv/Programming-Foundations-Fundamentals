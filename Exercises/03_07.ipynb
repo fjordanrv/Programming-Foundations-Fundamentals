{
 "cells": [
  {
   "cell_type": "code",
   "execution_count": 1,
   "id": "1afe51c0-a909-4da3-adb7-dc977db2d75e",
   "metadata": {},
   "outputs": [
    {
     "name": "stdout",
     "output_type": "stream",
     "text": [
      "Challenge 1:\n",
      "This is going to be tricky ;)\n",
      "2**3 = 8\n",
      "Challenge complete!\n"
     ]
    }
   ],
   "source": [
    "print(\"Challenge 1:\")\n",
    "\n",
    "# A message for the user\n",
    "message = \"This is going to be tricky ;)\"\n",
    "Message = \"Very tricky!\"\n",
    "print(message) # show the message on the screen\n",
    "\n",
    "# Perform mathematical operations\n",
    "result = 2**3\n",
    "print(\"2**3 =\", result)\n",
    "result = 5 - 3\n",
    "#print(\"5 - 3 =\", result)\n",
    "\n",
    "print(\"Challenge complete!\")"
   ]
  },
  {
   "cell_type": "code",
   "execution_count": null,
   "id": "49a40100-52cc-4734-956f-c6541ef01229",
   "metadata": {},
   "outputs": [],
   "source": []
  }
 ],
 "metadata": {
  "kernelspec": {
   "display_name": "Python 3 (ipykernel)",
   "language": "python",
   "name": "python3"
  },
  "language_info": {
   "codemirror_mode": {
    "name": "ipython",
    "version": 3
   },
   "file_extension": ".py",
   "mimetype": "text/x-python",
   "name": "python",
   "nbconvert_exporter": "python",
   "pygments_lexer": "ipython3",
   "version": "3.10.13"
  }
 },
 "nbformat": 4,
 "nbformat_minor": 5
}
