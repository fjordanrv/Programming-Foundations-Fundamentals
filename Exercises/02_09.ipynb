{
 "cells": [
  {
   "cell_type": "code",
   "execution_count": 2,
   "id": "056d7c78-1890-4f32-87f0-d56b85dcd558",
   "metadata": {},
   "outputs": [
    {
     "name": "stdout",
     "output_type": "stream",
     "text": [
      "Hello world\n",
      "Hello name\n"
     ]
    }
   ],
   "source": [
    "# syntax error\n",
    "print(\"Hello world\")\n",
    "\n",
    "# runtime error\n",
    "10 * (2/10)\n",
    "\n",
    "# semantic error\n",
    "name = \"Alice\"\n",
    "print(\"Hello name\")"
   ]
  }
 ],
 "metadata": {
  "kernelspec": {
   "display_name": "Python 3 (ipykernel)",
   "language": "python",
   "name": "python3"
  },
  "language_info": {
   "codemirror_mode": {
    "name": "ipython",
    "version": 3
   },
   "file_extension": ".py",
   "mimetype": "text/x-python",
   "name": "python",
   "nbconvert_exporter": "python",
   "pygments_lexer": "ipython3",
   "version": "3.10.13"
  }
 },
 "nbformat": 4,
 "nbformat_minor": 5
}
