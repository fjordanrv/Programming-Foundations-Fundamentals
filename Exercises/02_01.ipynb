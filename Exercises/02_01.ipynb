{
 "cells": [
  {
   "cell_type": "code",
   "execution_count": 1,
   "id": "cf75c0d2-1db8-4794-82d9-584bd6c88423",
   "metadata": {},
   "outputs": [
    {
     "name": "stdout",
     "output_type": "stream",
     "text": [
      "Feel free to join Franco\n"
     ]
    }
   ],
   "source": [
    "name = input(\"Hi, what's your name? \")\n",
    "age = int(input(\"How old are you? \"))\n",
    "\n",
    "if (age < 13):\n",
    "    print(\"You're too young to register\", name)\n",
    "else:\n",
    "    print(\"Feel free to join\", name)    "
   ]
  },
  {
   "cell_type": "code",
   "execution_count": null,
   "id": "4357a937-8309-4f83-9936-716283a5751e",
   "metadata": {},
   "outputs": [],
   "source": []
  }
 ],
 "metadata": {
  "kernelspec": {
   "display_name": "Python 3 (ipykernel)",
   "language": "python",
   "name": "python3"
  },
  "language_info": {
   "codemirror_mode": {
    "name": "ipython",
    "version": 3
   },
   "file_extension": ".py",
   "mimetype": "text/x-python",
   "name": "python",
   "nbconvert_exporter": "python",
   "pygments_lexer": "ipython3",
   "version": "3.10.13"
  }
 },
 "nbformat": 4,
 "nbformat_minor": 5
}
