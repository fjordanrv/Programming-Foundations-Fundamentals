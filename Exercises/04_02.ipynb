{
 "cells": [
  {
   "cell_type": "code",
   "execution_count": 1,
   "id": "f36739d6-2fb3-450f-97ff-a07c68b410b8",
   "metadata": {},
   "outputs": [
    {
     "name": "stdout",
     "output_type": "stream",
     "text": [
      "Hi!\n",
      "It's nice to meet you, Franco\n",
      "That's good to hear!\n",
      "Final statement\n"
     ]
    }
   ],
   "source": [
    "print(\"Hi!\")\n",
    "\n",
    "name = input(\"What's your name? \")\n",
    "print(\"It's nice to meet you,\", name)\n",
    "\n",
    "answer = input(\"Are you enjoying the course? \")\n",
    "\n",
    "if answer == \"Yes\":\n",
    "    print(\"That's good to hear!\")\n",
    "\n",
    "print(\"Final statement\")"
   ]
  },
  {
   "cell_type": "code",
   "execution_count": null,
   "id": "94d04658-795d-4749-9d2f-e012a1940884",
   "metadata": {},
   "outputs": [],
   "source": []
  }
 ],
 "metadata": {
  "kernelspec": {
   "display_name": "Python 3 (ipykernel)",
   "language": "python",
   "name": "python3"
  },
  "language_info": {
   "codemirror_mode": {
    "name": "ipython",
    "version": 3
   },
   "file_extension": ".py",
   "mimetype": "text/x-python",
   "name": "python",
   "nbconvert_exporter": "python",
   "pygments_lexer": "ipython3",
   "version": "3.10.13"
  }
 },
 "nbformat": 4,
 "nbformat_minor": 5
}
