{
 "cells": [
  {
   "cell_type": "code",
   "execution_count": 1,
   "id": "72c8cb4e-57fd-4142-b2f6-9acf94be0496",
   "metadata": {},
   "outputs": [
    {
     "name": "stdout",
     "output_type": "stream",
     "text": [
      "Hi!\n"
     ]
    },
    {
     "name": "stdin",
     "output_type": "stream",
     "text": [
      "What's your name?  Franco\n"
     ]
    },
    {
     "name": "stdout",
     "output_type": "stream",
     "text": [
      "It's nice to meet you, Franco\n"
     ]
    }
   ],
   "source": [
    "# Greet the user\n",
    "print(\"Hi!\")\n",
    "\n",
    "name = input(\"What's your name? \") # asks the user their name\n",
    "print(\"It's nice to meet you,\", name)\n",
    "\n",
    "# answer = input(\"Are you enjoying the course? \")\n",
    "\n",
    "# if answer == \"Yes\":\n",
    "#     print(\"That's good to hear!\")\n",
    "# else:\n",
    "#    print(\"Oh no! That makes me sad!\")"
   ]
  },
  {
   "cell_type": "code",
   "execution_count": null,
   "id": "f194ade2-1d38-4650-9043-d8dd6bb370fa",
   "metadata": {},
   "outputs": [],
   "source": []
  }
 ],
 "metadata": {
  "kernelspec": {
   "display_name": "Python 3 (ipykernel)",
   "language": "python",
   "name": "python3"
  },
  "language_info": {
   "codemirror_mode": {
    "name": "ipython",
    "version": 3
   },
   "file_extension": ".py",
   "mimetype": "text/x-python",
   "name": "python",
   "nbconvert_exporter": "python",
   "pygments_lexer": "ipython3",
   "version": "3.10.13"
  }
 },
 "nbformat": 4,
 "nbformat_minor": 5
}
