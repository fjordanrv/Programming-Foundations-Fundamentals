{
 "cells": [
  {
   "cell_type": "code",
   "execution_count": 1,
   "id": "b245d152-81a8-4e62-ad22-4f1fc12260e5",
   "metadata": {},
   "outputs": [
    {
     "name": "stdout",
     "output_type": "stream",
     "text": [
      "Hi!\n",
      "It's nice to meet you, Franco\n",
      "Oh no! That makes me sad!\n"
     ]
    }
   ],
   "source": [
    "print(\"Hi!\")\n",
    "name = input(\"What's your name? \")\n",
    "print(\"It's nice to meet you,\", name)\n",
    "answer = input(\"Are you enjoying the course? \")\n",
    "if answer == \"Yes\":\n",
    "    print(\"That's good to hear!\")\n",
    "else:\n",
    "    print(\"Oh no! That makes me sad!\")"
   ]
  },
  {
   "cell_type": "code",
   "execution_count": null,
   "id": "57715382-7a39-419b-8039-c646885e43b2",
   "metadata": {},
   "outputs": [],
   "source": []
  }
 ],
 "metadata": {
  "kernelspec": {
   "display_name": "Python 3 (ipykernel)",
   "language": "python",
   "name": "python3"
  },
  "language_info": {
   "codemirror_mode": {
    "name": "ipython",
    "version": 3
   },
   "file_extension": ".py",
   "mimetype": "text/x-python",
   "name": "python",
   "nbconvert_exporter": "python",
   "pygments_lexer": "ipython3",
   "version": "3.10.13"
  }
 },
 "nbformat": 4,
 "nbformat_minor": 5
}
