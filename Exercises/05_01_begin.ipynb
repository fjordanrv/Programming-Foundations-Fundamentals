{
 "cells": [
  {
   "cell_type": "code",
   "execution_count": 1,
   "id": "33214373-24fc-4b9e-9a1a-045b96918eba",
   "metadata": {},
   "outputs": [
    {
     "name": "stdout",
     "output_type": "stream",
     "text": [
      "~~~ The Shimmy ~~~\n",
      "Take one step to the right and stomp.\n",
      "Take one step to the left and stomp.\n",
      "Shake those hips!\n"
     ]
    }
   ],
   "source": [
    "print(\"~~~ The Shimmy ~~~\")\n",
    "\n",
    "print(\"Take one step to the right and stomp.\")\n",
    "print(\"Take one step to the left and stomp.\")\n",
    "print(\"Shake those hips!\") "
   ]
  },
  {
   "cell_type": "code",
   "execution_count": null,
   "id": "347817ae-9617-4ec5-b7a1-5c048a20198f",
   "metadata": {},
   "outputs": [],
   "source": []
  }
 ],
 "metadata": {
  "kernelspec": {
   "display_name": "Python 3 (ipykernel)",
   "language": "python",
   "name": "python3"
  },
  "language_info": {
   "codemirror_mode": {
    "name": "ipython",
    "version": 3
   },
   "file_extension": ".py",
   "mimetype": "text/x-python",
   "name": "python",
   "nbconvert_exporter": "python",
   "pygments_lexer": "ipython3",
   "version": "3.10.13"
  }
 },
 "nbformat": 4,
 "nbformat_minor": 5
}
