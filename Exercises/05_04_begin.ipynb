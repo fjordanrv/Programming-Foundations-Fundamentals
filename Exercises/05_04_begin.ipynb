{
 "cells": [
  {
   "cell_type": "code",
   "execution_count": 1,
   "id": "c0ce1fd9-4048-4600-872a-557a0590f040",
   "metadata": {},
   "outputs": [
    {
     "name": "stdout",
     "output_type": "stream",
     "text": [
      "The balance is 20\n"
     ]
    }
   ],
   "source": [
    "def withdraw_money(current_balance, amount):\n",
    "    if (current_balance >= amount):\n",
    "        current_balance = current_balance - amount\n",
    "        print(\"The balance is\", current_balance)\n",
    "\n",
    "withdraw_money(100, 80)"
   ]
  },
  {
   "cell_type": "code",
   "execution_count": null,
   "id": "93d35a87-de63-4169-ba26-cac8e4778e75",
   "metadata": {},
   "outputs": [],
   "source": []
  }
 ],
 "metadata": {
  "kernelspec": {
   "display_name": "Python 3 (ipykernel)",
   "language": "python",
   "name": "python3"
  },
  "language_info": {
   "codemirror_mode": {
    "name": "ipython",
    "version": 3
   },
   "file_extension": ".py",
   "mimetype": "text/x-python",
   "name": "python",
   "nbconvert_exporter": "python",
   "pygments_lexer": "ipython3",
   "version": "3.10.13"
  }
 },
 "nbformat": 4,
 "nbformat_minor": 5
}
